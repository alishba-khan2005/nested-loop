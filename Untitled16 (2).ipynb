{
  "nbformat": 4,
  "nbformat_minor": 0,
  "metadata": {
    "colab": {
      "provenance": []
    },
    "kernelspec": {
      "name": "python3",
      "display_name": "Python 3"
    },
    "language_info": {
      "name": "python"
    }
  },
  "cells": [
    {
      "cell_type": "code",
      "source": [
        "supplies =input(\"enter your preferred art supplies)\")\n",
        "painting=str(input(\"do you prefer canvas for painting ? (yes/no)\"))\n",
        "if supplies==\"paints\":\n",
        "    if painting==\"yes\":\n",
        "        print(\"acyrlic, poster colour, water colours\")\n",
        "    else:\n",
        "        painting=\"select other surafce for painting\"\n",
        "elif supplies==\"scrapbook\":\n",
        "    print(\"select the size of the scrapbook\")\n",
        "elif supplies==\"brushes\":\n",
        "    print(\"select your brushes\")\n",
        "elif supplies==\"sketchpencils\":\n",
        "    print(\"select your sketch pencils\")\n",
        "else:\n",
        "    supplies=\"sorry, we could'nt find the art supply.\"\n",
        "\n"
      ],
      "metadata": {
        "colab": {
          "base_uri": "https://localhost:8080/"
        },
        "id": "5lZUUGRtBg7f",
        "outputId": "d1a8133b-e34e-4b1d-9812-18b107eb618b"
      },
      "execution_count": 44,
      "outputs": [
        {
          "output_type": "stream",
          "name": "stdout",
          "text": [
            "enter your preferred art supplies)brushes\n",
            "do you prefer canvas for painting ? (yes/no)yes\n",
            "select your brushes\n"
          ]
        }
      ]
    },
    {
      "cell_type": "code",
      "source": [],
      "metadata": {
        "id": "YSkZVgoWNyws"
      },
      "execution_count": null,
      "outputs": []
    }
  ]
}